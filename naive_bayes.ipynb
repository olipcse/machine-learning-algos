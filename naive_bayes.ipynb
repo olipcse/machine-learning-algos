{
 "cells": [
  {
   "cell_type": "code",
   "execution_count": 10,
   "metadata": {},
   "outputs": [
    {
     "name": "stdout",
     "output_type": "stream",
     "text": [
      "     Recency (months)  Frequency (times)  Monetary (c.c. blood)  \\\n",
      "0                   2                 50                  12500   \n",
      "1                   0                 13                   3250   \n",
      "2                   1                 16                   4000   \n",
      "3                   2                 20                   5000   \n",
      "4                   1                 24                   6000   \n",
      "5                   4                  4                   1000   \n",
      "6                   2                  7                   1750   \n",
      "7                   1                 12                   3000   \n",
      "8                   2                  9                   2250   \n",
      "9                   5                 46                  11500   \n",
      "10                  4                 23                   5750   \n",
      "11                  0                  3                    750   \n",
      "12                  2                 10                   2500   \n",
      "13                  1                 13                   3250   \n",
      "14                  2                  6                   1500   \n",
      "15                  2                  5                   1250   \n",
      "16                  2                 14                   3500   \n",
      "17                  2                 15                   3750   \n",
      "18                  2                  6                   1500   \n",
      "19                  2                  3                    750   \n",
      "20                  2                  3                    750   \n",
      "21                  4                 11                   2750   \n",
      "22                  2                  6                   1500   \n",
      "23                  2                  6                   1500   \n",
      "24                  9                  9                   2250   \n",
      "25                  4                 14                   3500   \n",
      "26                  4                  6                   1500   \n",
      "27                  4                 12                   3000   \n",
      "28                  4                  5                   1250   \n",
      "29                  4                  8                   2000   \n",
      "..                ...                ...                    ...   \n",
      "718                21                  3                    750   \n",
      "719                23                  8                   2000   \n",
      "720                21                  3                    750   \n",
      "721                23                  3                    750   \n",
      "722                21                  3                    750   \n",
      "723                23                  2                    500   \n",
      "724                21                  1                    250   \n",
      "725                21                  1                    250   \n",
      "726                25                  6                   1500   \n",
      "727                21                  1                    250   \n",
      "728                21                  1                    250   \n",
      "729                23                  3                    750   \n",
      "730                21                  2                    500   \n",
      "731                14                  3                    750   \n",
      "732                23                  1                    250   \n",
      "733                23                  1                    250   \n",
      "734                23                  1                    250   \n",
      "735                23                  1                    250   \n",
      "736                23                  1                    250   \n",
      "737                23                  1                    250   \n",
      "738                23                  1                    250   \n",
      "739                23                  4                   1000   \n",
      "740                23                  1                    250   \n",
      "741                23                  7                   1750   \n",
      "742                16                  3                    750   \n",
      "743                23                  2                    500   \n",
      "744                21                  2                    500   \n",
      "745                23                  3                    750   \n",
      "746                39                  1                    250   \n",
      "747                72                  1                    250   \n",
      "\n",
      "     Time (months)  Class  \n",
      "0               98      1  \n",
      "1               28      1  \n",
      "2               35      1  \n",
      "3               45      1  \n",
      "4               77      0  \n",
      "5                4      0  \n",
      "6               14      1  \n",
      "7               35      0  \n",
      "8               22      1  \n",
      "9               98      1  \n",
      "10              58      0  \n",
      "11               4      0  \n",
      "12              28      1  \n",
      "13              47      0  \n",
      "14              15      1  \n",
      "15              11      1  \n",
      "16              48      1  \n",
      "17              49      1  \n",
      "18              15      1  \n",
      "19               4      1  \n",
      "20               4      1  \n",
      "21              28      0  \n",
      "22              16      1  \n",
      "23              16      1  \n",
      "24              16      0  \n",
      "25              40      0  \n",
      "26              14      0  \n",
      "27              34      1  \n",
      "28              11      1  \n",
      "29              21      0  \n",
      "..             ...    ...  \n",
      "718             35      0  \n",
      "719             69      0  \n",
      "720             38      0  \n",
      "721             35      0  \n",
      "722             40      0  \n",
      "723             28      0  \n",
      "724             21      0  \n",
      "725             21      0  \n",
      "726             50      0  \n",
      "727             21      0  \n",
      "728             21      0  \n",
      "729             39      0  \n",
      "730             33      0  \n",
      "731             79      0  \n",
      "732             23      1  \n",
      "733             23      0  \n",
      "734             23      0  \n",
      "735             23      0  \n",
      "736             23      0  \n",
      "737             23      0  \n",
      "738             23      0  \n",
      "739             52      0  \n",
      "740             23      0  \n",
      "741             88      0  \n",
      "742             86      0  \n",
      "743             38      0  \n",
      "744             52      0  \n",
      "745             62      0  \n",
      "746             39      0  \n",
      "747             72      0  \n",
      "\n",
      "[748 rows x 5 columns]\n"
     ]
    }
   ],
   "source": [
    "import numpy as np\n",
    "import pandas as pd\n",
    "from sklearn.naive_bayes import GaussianNB\n",
    "from sklearn.model_selection import train_test_split\n",
    "\n",
    "data = r'G:\\bl.csv'\n",
    "df = pd.read_csv(data)\n",
    "df.rename(columns={'whether he/she donated blood in March 2007': 'Class','x.1': 'top-middle-square','x.2': 'top-right-square','x.3': 'middle-left-square','o': 'middle-middle-square','o.1': 'middle-right-square','x.4': 'bottom-left-square','o.2': 'bottom-middle-square','o.3': 'bottom-right-square','positive': 'Class', }, inplace=True)\n",
    "print(df)\n",
    "X = df.drop('Class', axis=1)  \n",
    "y = df['Class']\n",
    "\n",
    "X_train, X_test, y_train, y_test = train_test_split(X, y, test_size=0.20) "
   ]
  },
  {
   "cell_type": "code",
   "execution_count": 2,
   "metadata": {},
   "outputs": [
    {
     "ename": "NameError",
     "evalue": "name 'y_pred' is not defined",
     "output_type": "error",
     "traceback": [
      "\u001b[1;31m---------------------------------------------------------------------------\u001b[0m",
      "\u001b[1;31mNameError\u001b[0m                                 Traceback (most recent call last)",
      "\u001b[1;32m<ipython-input-2-8c5e19deb661>\u001b[0m in \u001b[0;36m<module>\u001b[1;34m()\u001b[0m\n\u001b[0;32m      1\u001b[0m \u001b[1;32mfrom\u001b[0m \u001b[0msklearn\u001b[0m \u001b[1;32mimport\u001b[0m \u001b[0mmetrics\u001b[0m\u001b[1;33m\u001b[0m\u001b[0m\n\u001b[1;32m----> 2\u001b[1;33m \u001b[0mconfusion\u001b[0m \u001b[1;33m=\u001b[0m \u001b[0mmetrics\u001b[0m\u001b[1;33m.\u001b[0m\u001b[0mconfusion_matrix\u001b[0m\u001b[1;33m(\u001b[0m\u001b[0my_test\u001b[0m\u001b[1;33m,\u001b[0m\u001b[0my_pred\u001b[0m\u001b[1;33m)\u001b[0m\u001b[1;33m\u001b[0m\u001b[0m\n\u001b[0m\u001b[0;32m      3\u001b[0m \u001b[0mprint\u001b[0m\u001b[1;33m(\u001b[0m\u001b[0mconfusion\u001b[0m\u001b[1;33m)\u001b[0m\u001b[1;33m\u001b[0m\u001b[0m\n",
      "\u001b[1;31mNameError\u001b[0m: name 'y_pred' is not defined"
     ]
    }
   ],
   "source": []
  },
  {
   "cell_type": "code",
   "execution_count": 11,
   "metadata": {},
   "outputs": [
    {
     "name": "stdout",
     "output_type": "stream",
     "text": [
      "0.7666666666666667\n",
      "[1 0 0 0 0 0 0 0 0 0 0 0 0 0 0 0 0 0 0 1 0 0 1 0 0 0 0 0 0 0 0 1 0 1 0 0 1\n",
      " 0 0 0 0 1 0 0 0 1 0 0 0 0 1 0 0 0 0 0 0 0 1 0 0 0 0 0 0 0 1 0 1 1 0 0 0 0\n",
      " 1 1 0 1 0 0 0 1 0 0 0 0 0 0 1 0 0 0 0 0 0 0 0 0 0 0 0 0 0 0 0 0 0 0 0 0 0\n",
      " 0 0 0 0 0 0 0 0 0 0 0 0 0 0 0 0 0 0 1 0 0 0 0 0 0 0 0 0 0 0 0 0 0 0 0 1 0\n",
      " 0 0]\n"
     ]
    }
   ],
   "source": [
    "nb = GaussianNB()\n",
    "nb.fit(X_train, y_train)\n",
    "accuracy = nb.score(X_test, y_test)\n",
    "y_pred = nb.predict(X_test)\n",
    "print(accuracy)\n",
    "print(y_pred)"
   ]
  },
  {
   "cell_type": "code",
   "execution_count": 12,
   "metadata": {},
   "outputs": [
    {
     "name": "stdout",
     "output_type": "stream",
     "text": [
      "[[106  11]\n",
      " [ 24   9]]\n",
      "             precision    recall  f1-score   support\n",
      "\n",
      "          0       0.82      0.91      0.86       117\n",
      "          1       0.45      0.27      0.34        33\n",
      "\n",
      "avg / total       0.73      0.77      0.74       150\n",
      "\n"
     ]
    }
   ],
   "source": [
    "from sklearn.metrics import classification_report, confusion_matrix\n",
    "\n",
    "print(confusion_matrix(y_test, y_pred))  \n",
    "print(classification_report(y_test, y_pred)) "
   ]
  },
  {
   "cell_type": "code",
   "execution_count": null,
   "metadata": {},
   "outputs": [],
   "source": []
  }
 ],
 "metadata": {
  "kernelspec": {
   "display_name": "Python 3",
   "language": "python",
   "name": "python3"
  },
  "language_info": {
   "codemirror_mode": {
    "name": "ipython",
    "version": 3
   },
   "file_extension": ".py",
   "mimetype": "text/x-python",
   "name": "python",
   "nbconvert_exporter": "python",
   "pygments_lexer": "ipython3",
   "version": "3.6.4"
  }
 },
 "nbformat": 4,
 "nbformat_minor": 2
}
